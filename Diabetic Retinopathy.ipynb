{
  "nbformat": 4,
  "nbformat_minor": 0,
  "metadata": {
    "colab": {
      "provenance": []
    },
    "kernelspec": {
      "name": "python3",
      "display_name": "Python 3"
    },
    "language_info": {
      "name": "python"
    },
    "accelerator": "GPU",
    "gpuClass": "standard"
  },
  "cells": [
    {
      "cell_type": "code",
      "execution_count": 1,
      "metadata": {
        "colab": {
          "base_uri": "https://localhost:8080/"
        },
        "id": "jIvTtGnFK9wG",
        "outputId": "415a684f-59b6-465b-9758-af74c9c3561d"
      },
      "outputs": [
        {
          "output_type": "stream",
          "name": "stdout",
          "text": [
            "Mounted at /content/drive\n"
          ]
        }
      ],
      "source": [
        "from google.colab import drive\n",
        "drive.mount('/content/drive')"
      ]
    },
    {
      "cell_type": "code",
      "source": [
        "import matplotlib.pyplot as plt\n",
        "import numpy as np\n",
        "import tensorflow as tf\n",
        "from tensorflow import keras\n",
        "import os,cv2\n",
        "from tensorflow.keras import layers\n",
        "from typing import List\n",
        "\n",
        "import tensorflow_datasets as tfds\n",
        "import tensorflow_hub as hub\n",
        "from sklearn.utils import shuffle\n",
        "from keras.preprocessing.image import ImageDataGenerator\n",
        "from sklearn.preprocessing import LabelEncoder"
      ],
      "metadata": {
        "id": "Sbfpxu2BK-kG"
      },
      "execution_count": 2,
      "outputs": []
    },
    {
      "cell_type": "code",
      "source": [
        "import zipfile\n",
        "with zipfile.ZipFile('/content/drive/MyDrive/Retina_Data/Copy of retina1_trainvalid.zip', 'r') as zip_ref:\n",
        "    zip_ref.extractall('/content/drive/MyDrive/Retina_Data')"
      ],
      "metadata": {
        "id": "Ev4umTqrK-nX"
      },
      "execution_count": 3,
      "outputs": []
    },
    {
      "cell_type": "code",
      "source": [
        "import zipfile\n",
        "with zipfile.ZipFile('/content/drive/MyDrive/Retina_Data/Copy of retina1_test.zip', 'r') as zip_ref:\n",
        "    zip_ref.extractall('/content/drive/MyDrive/Retina_Data')"
      ],
      "metadata": {
        "id": "5FQJjhrMK-om"
      },
      "execution_count": 4,
      "outputs": []
    },
    {
      "cell_type": "code",
      "source": [
        "import pandas as pd\n",
        "train=pd.read_csv('/content/drive/MyDrive/Retina_Data/labels_trainvalid.txt')"
      ],
      "metadata": {
        "id": "UAdRhfcsNjjQ"
      },
      "execution_count": 3,
      "outputs": []
    },
    {
      "cell_type": "code",
      "source": [
        "train=train.astype(str)"
      ],
      "metadata": {
        "id": "211eSNH4OC_O"
      },
      "execution_count": 4,
      "outputs": []
    },
    {
      "cell_type": "code",
      "source": [
        "train.reset_index(inplace=True)\n",
        "train"
      ],
      "metadata": {
        "colab": {
          "base_uri": "https://localhost:8080/",
          "height": 424
        },
        "id": "KwSeo0nzOTeC",
        "outputId": "c4a2cedb-05eb-41cc-b3f6-72ff562f94d5"
      },
      "execution_count": 5,
      "outputs": [
        {
          "output_type": "execute_result",
          "data": {
            "text/plain": [
              "      index  0\n",
              "0         0  0\n",
              "1         1  0\n",
              "2         2  0\n",
              "3         3  0\n",
              "4         4  0\n",
              "...     ... ..\n",
              "1173   1173  1\n",
              "1174   1174  1\n",
              "1175   1175  1\n",
              "1176   1176  1\n",
              "1177   1177  1\n",
              "\n",
              "[1178 rows x 2 columns]"
            ],
            "text/html": [
              "\n",
              "  <div id=\"df-4e0db064-7ab2-48dd-abc1-3e6449abcc31\">\n",
              "    <div class=\"colab-df-container\">\n",
              "      <div>\n",
              "<style scoped>\n",
              "    .dataframe tbody tr th:only-of-type {\n",
              "        vertical-align: middle;\n",
              "    }\n",
              "\n",
              "    .dataframe tbody tr th {\n",
              "        vertical-align: top;\n",
              "    }\n",
              "\n",
              "    .dataframe thead th {\n",
              "        text-align: right;\n",
              "    }\n",
              "</style>\n",
              "<table border=\"1\" class=\"dataframe\">\n",
              "  <thead>\n",
              "    <tr style=\"text-align: right;\">\n",
              "      <th></th>\n",
              "      <th>index</th>\n",
              "      <th>0</th>\n",
              "    </tr>\n",
              "  </thead>\n",
              "  <tbody>\n",
              "    <tr>\n",
              "      <th>0</th>\n",
              "      <td>0</td>\n",
              "      <td>0</td>\n",
              "    </tr>\n",
              "    <tr>\n",
              "      <th>1</th>\n",
              "      <td>1</td>\n",
              "      <td>0</td>\n",
              "    </tr>\n",
              "    <tr>\n",
              "      <th>2</th>\n",
              "      <td>2</td>\n",
              "      <td>0</td>\n",
              "    </tr>\n",
              "    <tr>\n",
              "      <th>3</th>\n",
              "      <td>3</td>\n",
              "      <td>0</td>\n",
              "    </tr>\n",
              "    <tr>\n",
              "      <th>4</th>\n",
              "      <td>4</td>\n",
              "      <td>0</td>\n",
              "    </tr>\n",
              "    <tr>\n",
              "      <th>...</th>\n",
              "      <td>...</td>\n",
              "      <td>...</td>\n",
              "    </tr>\n",
              "    <tr>\n",
              "      <th>1173</th>\n",
              "      <td>1173</td>\n",
              "      <td>1</td>\n",
              "    </tr>\n",
              "    <tr>\n",
              "      <th>1174</th>\n",
              "      <td>1174</td>\n",
              "      <td>1</td>\n",
              "    </tr>\n",
              "    <tr>\n",
              "      <th>1175</th>\n",
              "      <td>1175</td>\n",
              "      <td>1</td>\n",
              "    </tr>\n",
              "    <tr>\n",
              "      <th>1176</th>\n",
              "      <td>1176</td>\n",
              "      <td>1</td>\n",
              "    </tr>\n",
              "    <tr>\n",
              "      <th>1177</th>\n",
              "      <td>1177</td>\n",
              "      <td>1</td>\n",
              "    </tr>\n",
              "  </tbody>\n",
              "</table>\n",
              "<p>1178 rows × 2 columns</p>\n",
              "</div>\n",
              "      <button class=\"colab-df-convert\" onclick=\"convertToInteractive('df-4e0db064-7ab2-48dd-abc1-3e6449abcc31')\"\n",
              "              title=\"Convert this dataframe to an interactive table.\"\n",
              "              style=\"display:none;\">\n",
              "        \n",
              "  <svg xmlns=\"http://www.w3.org/2000/svg\" height=\"24px\"viewBox=\"0 0 24 24\"\n",
              "       width=\"24px\">\n",
              "    <path d=\"M0 0h24v24H0V0z\" fill=\"none\"/>\n",
              "    <path d=\"M18.56 5.44l.94 2.06.94-2.06 2.06-.94-2.06-.94-.94-2.06-.94 2.06-2.06.94zm-11 1L8.5 8.5l.94-2.06 2.06-.94-2.06-.94L8.5 2.5l-.94 2.06-2.06.94zm10 10l.94 2.06.94-2.06 2.06-.94-2.06-.94-.94-2.06-.94 2.06-2.06.94z\"/><path d=\"M17.41 7.96l-1.37-1.37c-.4-.4-.92-.59-1.43-.59-.52 0-1.04.2-1.43.59L10.3 9.45l-7.72 7.72c-.78.78-.78 2.05 0 2.83L4 21.41c.39.39.9.59 1.41.59.51 0 1.02-.2 1.41-.59l7.78-7.78 2.81-2.81c.8-.78.8-2.07 0-2.86zM5.41 20L4 18.59l7.72-7.72 1.47 1.35L5.41 20z\"/>\n",
              "  </svg>\n",
              "      </button>\n",
              "      \n",
              "  <style>\n",
              "    .colab-df-container {\n",
              "      display:flex;\n",
              "      flex-wrap:wrap;\n",
              "      gap: 12px;\n",
              "    }\n",
              "\n",
              "    .colab-df-convert {\n",
              "      background-color: #E8F0FE;\n",
              "      border: none;\n",
              "      border-radius: 50%;\n",
              "      cursor: pointer;\n",
              "      display: none;\n",
              "      fill: #1967D2;\n",
              "      height: 32px;\n",
              "      padding: 0 0 0 0;\n",
              "      width: 32px;\n",
              "    }\n",
              "\n",
              "    .colab-df-convert:hover {\n",
              "      background-color: #E2EBFA;\n",
              "      box-shadow: 0px 1px 2px rgba(60, 64, 67, 0.3), 0px 1px 3px 1px rgba(60, 64, 67, 0.15);\n",
              "      fill: #174EA6;\n",
              "    }\n",
              "\n",
              "    [theme=dark] .colab-df-convert {\n",
              "      background-color: #3B4455;\n",
              "      fill: #D2E3FC;\n",
              "    }\n",
              "\n",
              "    [theme=dark] .colab-df-convert:hover {\n",
              "      background-color: #434B5C;\n",
              "      box-shadow: 0px 1px 3px 1px rgba(0, 0, 0, 0.15);\n",
              "      filter: drop-shadow(0px 1px 2px rgba(0, 0, 0, 0.3));\n",
              "      fill: #FFFFFF;\n",
              "    }\n",
              "  </style>\n",
              "\n",
              "      <script>\n",
              "        const buttonEl =\n",
              "          document.querySelector('#df-4e0db064-7ab2-48dd-abc1-3e6449abcc31 button.colab-df-convert');\n",
              "        buttonEl.style.display =\n",
              "          google.colab.kernel.accessAllowed ? 'block' : 'none';\n",
              "\n",
              "        async function convertToInteractive(key) {\n",
              "          const element = document.querySelector('#df-4e0db064-7ab2-48dd-abc1-3e6449abcc31');\n",
              "          const dataTable =\n",
              "            await google.colab.kernel.invokeFunction('convertToInteractive',\n",
              "                                                     [key], {});\n",
              "          if (!dataTable) return;\n",
              "\n",
              "          const docLinkHtml = 'Like what you see? Visit the ' +\n",
              "            '<a target=\"_blank\" href=https://colab.research.google.com/notebooks/data_table.ipynb>data table notebook</a>'\n",
              "            + ' to learn more about interactive tables.';\n",
              "          element.innerHTML = '';\n",
              "          dataTable['output_type'] = 'display_data';\n",
              "          await google.colab.output.renderOutput(dataTable, element);\n",
              "          const docLink = document.createElement('div');\n",
              "          docLink.innerHTML = docLinkHtml;\n",
              "          element.appendChild(docLink);\n",
              "        }\n",
              "      </script>\n",
              "    </div>\n",
              "  </div>\n",
              "  "
            ]
          },
          "metadata": {},
          "execution_count": 5
        }
      ]
    },
    {
      "cell_type": "code",
      "source": [
        "train.columns=['images','labels']"
      ],
      "metadata": {
        "id": "HmLz0ltUO0fL"
      },
      "execution_count": 6,
      "outputs": []
    },
    {
      "cell_type": "code",
      "source": [
        "train=train.astype(str)\n",
        "train.dtypes"
      ],
      "metadata": {
        "colab": {
          "base_uri": "https://localhost:8080/"
        },
        "id": "xSJHYcyvQY8x",
        "outputId": "007108de-3c38-4a94-fe68-102d08f093f6"
      },
      "execution_count": 7,
      "outputs": [
        {
          "output_type": "execute_result",
          "data": {
            "text/plain": [
              "images    object\n",
              "labels    object\n",
              "dtype: object"
            ]
          },
          "metadata": {},
          "execution_count": 7
        }
      ]
    },
    {
      "cell_type": "code",
      "source": [
        "def fun(x):\n",
        "  if len(x)==2:\n",
        "    return f'00{x}.jpg'\n",
        "  if len(x)==3:\n",
        "    return f'0{x}.jpg'\n",
        "  if len(x)==4:\n",
        "    return f'{x}.jpg'\n",
        "  if len(x)==1:\n",
        "    return f'000{x}.jpg'\n",
        "train['images']=train['images'].apply(fun)\n",
        "train"
      ],
      "metadata": {
        "colab": {
          "base_uri": "https://localhost:8080/",
          "height": 424
        },
        "id": "0HGMYjZlPLpp",
        "outputId": "7db0199f-2207-40c7-bd1f-eb0d9ebaa55d"
      },
      "execution_count": 8,
      "outputs": [
        {
          "output_type": "execute_result",
          "data": {
            "text/plain": [
              "        images labels\n",
              "0     0000.jpg      0\n",
              "1     0001.jpg      0\n",
              "2     0002.jpg      0\n",
              "3     0003.jpg      0\n",
              "4     0004.jpg      0\n",
              "...        ...    ...\n",
              "1173  1173.jpg      1\n",
              "1174  1174.jpg      1\n",
              "1175  1175.jpg      1\n",
              "1176  1176.jpg      1\n",
              "1177  1177.jpg      1\n",
              "\n",
              "[1178 rows x 2 columns]"
            ],
            "text/html": [
              "\n",
              "  <div id=\"df-67cd60ea-772d-4f54-bcf8-f41de473a70c\">\n",
              "    <div class=\"colab-df-container\">\n",
              "      <div>\n",
              "<style scoped>\n",
              "    .dataframe tbody tr th:only-of-type {\n",
              "        vertical-align: middle;\n",
              "    }\n",
              "\n",
              "    .dataframe tbody tr th {\n",
              "        vertical-align: top;\n",
              "    }\n",
              "\n",
              "    .dataframe thead th {\n",
              "        text-align: right;\n",
              "    }\n",
              "</style>\n",
              "<table border=\"1\" class=\"dataframe\">\n",
              "  <thead>\n",
              "    <tr style=\"text-align: right;\">\n",
              "      <th></th>\n",
              "      <th>images</th>\n",
              "      <th>labels</th>\n",
              "    </tr>\n",
              "  </thead>\n",
              "  <tbody>\n",
              "    <tr>\n",
              "      <th>0</th>\n",
              "      <td>0000.jpg</td>\n",
              "      <td>0</td>\n",
              "    </tr>\n",
              "    <tr>\n",
              "      <th>1</th>\n",
              "      <td>0001.jpg</td>\n",
              "      <td>0</td>\n",
              "    </tr>\n",
              "    <tr>\n",
              "      <th>2</th>\n",
              "      <td>0002.jpg</td>\n",
              "      <td>0</td>\n",
              "    </tr>\n",
              "    <tr>\n",
              "      <th>3</th>\n",
              "      <td>0003.jpg</td>\n",
              "      <td>0</td>\n",
              "    </tr>\n",
              "    <tr>\n",
              "      <th>4</th>\n",
              "      <td>0004.jpg</td>\n",
              "      <td>0</td>\n",
              "    </tr>\n",
              "    <tr>\n",
              "      <th>...</th>\n",
              "      <td>...</td>\n",
              "      <td>...</td>\n",
              "    </tr>\n",
              "    <tr>\n",
              "      <th>1173</th>\n",
              "      <td>1173.jpg</td>\n",
              "      <td>1</td>\n",
              "    </tr>\n",
              "    <tr>\n",
              "      <th>1174</th>\n",
              "      <td>1174.jpg</td>\n",
              "      <td>1</td>\n",
              "    </tr>\n",
              "    <tr>\n",
              "      <th>1175</th>\n",
              "      <td>1175.jpg</td>\n",
              "      <td>1</td>\n",
              "    </tr>\n",
              "    <tr>\n",
              "      <th>1176</th>\n",
              "      <td>1176.jpg</td>\n",
              "      <td>1</td>\n",
              "    </tr>\n",
              "    <tr>\n",
              "      <th>1177</th>\n",
              "      <td>1177.jpg</td>\n",
              "      <td>1</td>\n",
              "    </tr>\n",
              "  </tbody>\n",
              "</table>\n",
              "<p>1178 rows × 2 columns</p>\n",
              "</div>\n",
              "      <button class=\"colab-df-convert\" onclick=\"convertToInteractive('df-67cd60ea-772d-4f54-bcf8-f41de473a70c')\"\n",
              "              title=\"Convert this dataframe to an interactive table.\"\n",
              "              style=\"display:none;\">\n",
              "        \n",
              "  <svg xmlns=\"http://www.w3.org/2000/svg\" height=\"24px\"viewBox=\"0 0 24 24\"\n",
              "       width=\"24px\">\n",
              "    <path d=\"M0 0h24v24H0V0z\" fill=\"none\"/>\n",
              "    <path d=\"M18.56 5.44l.94 2.06.94-2.06 2.06-.94-2.06-.94-.94-2.06-.94 2.06-2.06.94zm-11 1L8.5 8.5l.94-2.06 2.06-.94-2.06-.94L8.5 2.5l-.94 2.06-2.06.94zm10 10l.94 2.06.94-2.06 2.06-.94-2.06-.94-.94-2.06-.94 2.06-2.06.94z\"/><path d=\"M17.41 7.96l-1.37-1.37c-.4-.4-.92-.59-1.43-.59-.52 0-1.04.2-1.43.59L10.3 9.45l-7.72 7.72c-.78.78-.78 2.05 0 2.83L4 21.41c.39.39.9.59 1.41.59.51 0 1.02-.2 1.41-.59l7.78-7.78 2.81-2.81c.8-.78.8-2.07 0-2.86zM5.41 20L4 18.59l7.72-7.72 1.47 1.35L5.41 20z\"/>\n",
              "  </svg>\n",
              "      </button>\n",
              "      \n",
              "  <style>\n",
              "    .colab-df-container {\n",
              "      display:flex;\n",
              "      flex-wrap:wrap;\n",
              "      gap: 12px;\n",
              "    }\n",
              "\n",
              "    .colab-df-convert {\n",
              "      background-color: #E8F0FE;\n",
              "      border: none;\n",
              "      border-radius: 50%;\n",
              "      cursor: pointer;\n",
              "      display: none;\n",
              "      fill: #1967D2;\n",
              "      height: 32px;\n",
              "      padding: 0 0 0 0;\n",
              "      width: 32px;\n",
              "    }\n",
              "\n",
              "    .colab-df-convert:hover {\n",
              "      background-color: #E2EBFA;\n",
              "      box-shadow: 0px 1px 2px rgba(60, 64, 67, 0.3), 0px 1px 3px 1px rgba(60, 64, 67, 0.15);\n",
              "      fill: #174EA6;\n",
              "    }\n",
              "\n",
              "    [theme=dark] .colab-df-convert {\n",
              "      background-color: #3B4455;\n",
              "      fill: #D2E3FC;\n",
              "    }\n",
              "\n",
              "    [theme=dark] .colab-df-convert:hover {\n",
              "      background-color: #434B5C;\n",
              "      box-shadow: 0px 1px 3px 1px rgba(0, 0, 0, 0.15);\n",
              "      filter: drop-shadow(0px 1px 2px rgba(0, 0, 0, 0.3));\n",
              "      fill: #FFFFFF;\n",
              "    }\n",
              "  </style>\n",
              "\n",
              "      <script>\n",
              "        const buttonEl =\n",
              "          document.querySelector('#df-67cd60ea-772d-4f54-bcf8-f41de473a70c button.colab-df-convert');\n",
              "        buttonEl.style.display =\n",
              "          google.colab.kernel.accessAllowed ? 'block' : 'none';\n",
              "\n",
              "        async function convertToInteractive(key) {\n",
              "          const element = document.querySelector('#df-67cd60ea-772d-4f54-bcf8-f41de473a70c');\n",
              "          const dataTable =\n",
              "            await google.colab.kernel.invokeFunction('convertToInteractive',\n",
              "                                                     [key], {});\n",
              "          if (!dataTable) return;\n",
              "\n",
              "          const docLinkHtml = 'Like what you see? Visit the ' +\n",
              "            '<a target=\"_blank\" href=https://colab.research.google.com/notebooks/data_table.ipynb>data table notebook</a>'\n",
              "            + ' to learn more about interactive tables.';\n",
              "          element.innerHTML = '';\n",
              "          dataTable['output_type'] = 'display_data';\n",
              "          await google.colab.output.renderOutput(dataTable, element);\n",
              "          const docLink = document.createElement('div');\n",
              "          docLink.innerHTML = docLinkHtml;\n",
              "          element.appendChild(docLink);\n",
              "        }\n",
              "      </script>\n",
              "    </div>\n",
              "  </div>\n",
              "  "
            ]
          },
          "metadata": {},
          "execution_count": 8
        }
      ]
    },
    {
      "cell_type": "code",
      "source": [
        "train['labels'].value_counts()"
      ],
      "metadata": {
        "colab": {
          "base_uri": "https://localhost:8080/"
        },
        "id": "N_vYafrfPs7d",
        "outputId": "f3bb16d0-9575-4b47-d94f-c1c2d3c3be30"
      },
      "execution_count": 9,
      "outputs": [
        {
          "output_type": "execute_result",
          "data": {
            "text/plain": [
              "0    634\n",
              "1    544\n",
              "Name: labels, dtype: int64"
            ]
          },
          "metadata": {},
          "execution_count": 9
        }
      ]
    },
    {
      "cell_type": "code",
      "source": [
        "len(os.listdir('/content/drive/MyDrive/Retina_Data/trainvalid'))"
      ],
      "metadata": {
        "colab": {
          "base_uri": "https://localhost:8080/"
        },
        "id": "y19f-mtoPPZg",
        "outputId": "275797d9-5d3a-4dfe-b513-e76a3d46b3aa"
      },
      "execution_count": 11,
      "outputs": [
        {
          "output_type": "execute_result",
          "data": {
            "text/plain": [
              "1179"
            ]
          },
          "metadata": {},
          "execution_count": 11
        }
      ]
    },
    {
      "cell_type": "code",
      "source": [
        "train_datagen = ImageDataGenerator(rescale=1./255,shear_range=0.2,zoom_range=0.2,horizontal_flip=True,validation_split=0.2) \n",
        "\n",
        "train_generator = train_datagen.flow_from_dataframe(\n",
        "    train,\n",
        "    '/content/drive/MyDrive/Retina_Data/trainvalid',\n",
        "    x_col='images',\n",
        "    y_col='labels',\n",
        "     target_size=(128, 128),\n",
        "    shuffle=True,\n",
        "    seed=10,\n",
        "    batch_size=32,\n",
        "    subset='training',\n",
        "    class_mode='categorical') \n",
        "\n",
        "validation_generator = train_datagen.flow_from_dataframe(\n",
        "    train,\n",
        "    '/content/drive/MyDrive/Retina_Data/trainvalid',\n",
        "    x_col='images',\n",
        "    y_col='labels',\n",
        "    target_size=(128, 128),\n",
        "    batch_size=32,\n",
        "    shuffle=True,\n",
        "    class_mode='categorical',\n",
        "    seed=10,\n",
        "    subset='validation') \n"
      ],
      "metadata": {
        "colab": {
          "base_uri": "https://localhost:8080/"
        },
        "id": "4sltM4gxK-qh",
        "outputId": "d8414a44-1851-4eeb-b15a-63e1388e7d32"
      },
      "execution_count": 52,
      "outputs": [
        {
          "output_type": "stream",
          "name": "stdout",
          "text": [
            "Found 910 validated image filenames belonging to 2 classes.\n",
            "Found 227 validated image filenames belonging to 2 classes.\n"
          ]
        },
        {
          "output_type": "stream",
          "name": "stderr",
          "text": [
            "/usr/local/lib/python3.7/dist-packages/keras/preprocessing/image.py:991: UserWarning: Found 41 invalid image filename(s) in x_col=\"images\". These filename(s) will be ignored.\n",
            "  n_invalid, x_col))\n"
          ]
        }
      ]
    },
    {
      "cell_type": "markdown",
      "source": [
        "## Model Training"
      ],
      "metadata": {
        "id": "iMSK9CZpQjxK"
      }
    },
    {
      "cell_type": "code",
      "source": [
        "Incp=tf.keras.applications.inception_resnet_v2.InceptionResNetV2(include_top = False, weights= 'imagenet',input_shape=(128,128,3))\n",
        "Incp.trainable=False"
      ],
      "metadata": {
        "id": "f_QdlpfDSYbL"
      },
      "execution_count": 53,
      "outputs": []
    },
    {
      "cell_type": "code",
      "source": [
        "Inc_features=Incp.output\n",
        "Flat_1=keras.layers.Flatten()(Inc_features)\n",
        "d1_1=keras.layers.Dense(256,activation='relu')(Flat_1)\n",
        "Output1=keras.layers.Dense(2,activation='sigmoid',name='output1')(d1_1)\n",
        "MODEL=keras.models.Model([Incp.input],[Output1])\n",
        "MODEL.compile(optimizer=keras.optimizers.Adam(learning_rate=0.0005),  \n",
        "              loss='categorical_crossentropy',\n",
        "              metrics=[keras.metrics.CategoricalAccuracy(),keras.metrics.Recall(),keras.metrics.Precision()])\n",
        "hist=MODEL.fit(train_generator,epochs=10,validation_data=validation_generator)"
      ],
      "metadata": {
        "colab": {
          "base_uri": "https://localhost:8080/"
        },
        "id": "pIUJoZI3MqgR",
        "outputId": "4570fb4c-1c3b-4201-a09f-938001204533"
      },
      "execution_count": 54,
      "outputs": [
        {
          "output_type": "stream",
          "name": "stdout",
          "text": [
            "Epoch 1/10\n",
            "29/29 [==============================] - 152s 4s/step - loss: 1.5385 - categorical_accuracy: 0.7440 - recall_12: 0.7209 - precision_12: 0.7463 - val_loss: 1.1792 - val_categorical_accuracy: 0.5991 - val_recall_12: 0.5110 - val_precision_12: 0.6591\n",
            "Epoch 2/10\n",
            "29/29 [==============================] - 95s 3s/step - loss: 0.3468 - categorical_accuracy: 0.8516 - recall_12: 0.6868 - precision_12: 0.9032 - val_loss: 0.3394 - val_categorical_accuracy: 0.8502 - val_recall_12: 0.5330 - val_precision_12: 0.9680\n",
            "Epoch 3/10\n",
            "29/29 [==============================] - 106s 4s/step - loss: 0.2872 - categorical_accuracy: 0.8670 - recall_12: 0.6176 - precision_12: 0.9590 - val_loss: 0.5743 - val_categorical_accuracy: 0.7445 - val_recall_12: 0.4626 - val_precision_12: 0.9459\n",
            "Epoch 4/10\n",
            "29/29 [==============================] - 94s 3s/step - loss: 0.2743 - categorical_accuracy: 0.8813 - recall_12: 0.6484 - precision_12: 0.9562 - val_loss: 0.4294 - val_categorical_accuracy: 0.8062 - val_recall_12: 0.5198 - val_precision_12: 0.9672\n",
            "Epoch 5/10\n",
            "29/29 [==============================] - 102s 4s/step - loss: 0.3080 - categorical_accuracy: 0.8791 - recall_12: 0.6143 - precision_12: 0.9443 - val_loss: 0.8063 - val_categorical_accuracy: 0.6256 - val_recall_12: 0.4009 - val_precision_12: 0.6276\n",
            "Epoch 6/10\n",
            "29/29 [==============================] - 90s 3s/step - loss: 0.2951 - categorical_accuracy: 0.8769 - recall_12: 0.7714 - precision_12: 0.8920 - val_loss: 0.2174 - val_categorical_accuracy: 0.9163 - val_recall_12: 0.8502 - val_precision_12: 0.9279\n",
            "Epoch 7/10\n",
            "29/29 [==============================] - 92s 3s/step - loss: 0.2869 - categorical_accuracy: 0.8901 - recall_12: 0.7989 - precision_12: 0.9203 - val_loss: 0.8217 - val_categorical_accuracy: 0.6344 - val_recall_12: 0.4758 - val_precision_12: 0.7297\n",
            "Epoch 8/10\n",
            "29/29 [==============================] - 92s 3s/step - loss: 0.2547 - categorical_accuracy: 0.8868 - recall_12: 0.6604 - precision_12: 0.9509 - val_loss: 0.4164 - val_categorical_accuracy: 0.8106 - val_recall_12: 0.5595 - val_precision_12: 0.9621\n",
            "Epoch 9/10\n",
            "29/29 [==============================] - 87s 3s/step - loss: 0.2278 - categorical_accuracy: 0.9000 - recall_12: 0.6626 - precision_12: 0.9710 - val_loss: 0.8201 - val_categorical_accuracy: 0.6256 - val_recall_12: 0.3568 - val_precision_12: 0.8182\n",
            "Epoch 10/10\n",
            "29/29 [==============================] - 87s 3s/step - loss: 0.2552 - categorical_accuracy: 0.8967 - recall_12: 0.6846 - precision_12: 0.9541 - val_loss: 0.1136 - val_categorical_accuracy: 0.9780 - val_recall_12: 0.8194 - val_precision_12: 0.9947\n"
          ]
        }
      ]
    },
    {
      "cell_type": "code",
      "source": [
        "MODEL.save('/content/drive/MyDrive/Retina_Data/Micheal_Model.h5')"
      ],
      "metadata": {
        "id": "w9NTKzsYsn3f"
      },
      "execution_count": 77,
      "outputs": []
    },
    {
      "cell_type": "code",
      "source": [
        "plt.rcParams['figure.figsize']=(15,5)\n",
        "pd.DataFrame(hist.history).plot()\n",
        "plt.grid()\n",
        "plt.gca().set_ylim(0,1)\n",
        "plt.show()"
      ],
      "metadata": {
        "colab": {
          "base_uri": "https://localhost:8080/",
          "height": 324
        },
        "id": "SWuf7OoORITT",
        "outputId": "0d48424b-a85b-44ee-e9e4-3f9fdd6e1110"
      },
      "execution_count": 55,
      "outputs": [
        {
          "output_type": "display_data",
          "data": {
            "text/plain": [
              "<Figure size 1080x360 with 1 Axes>"
            ],
            "image/png": "[encoded data removed]"
          },
          "metadata": {
            "needs_background": "light"
          }
        }
      ]
    },
    {
      "cell_type": "code",
      "source": [
        "test_datagen = ImageDataGenerator(rescale=1./255) \n",
        "\n",
        "test_generator = test_datagen.flow_from_directory(\n",
        "    '/content/drive/MyDrive/Retina_Data/test_big',\n",
        "    target_size=(128, 128),\n",
        "    shuffle=True,\n",
        "    seed=10,\n",
        "    batch_size=32,\n",
        "    subset='training',\n",
        "    class_mode='categorical') "
      ],
      "metadata": {
        "colab": {
          "base_uri": "https://localhost:8080/"
        },
        "id": "6VmPLQbqeNVN",
        "outputId": "fcf27558-a9da-40ab-e7a1-ac78cc3c87db"
      },
      "execution_count": 72,
      "outputs": [
        {
          "output_type": "stream",
          "name": "stdout",
          "text": [
            "Found 0 images belonging to 0 classes.\n"
          ]
        }
      ]
    },
    {
      "cell_type": "code",
      "source": [
        "test_generator.class_indices.keys()"
      ],
      "metadata": {
        "id": "jTNsSCP4nFWA"
      },
      "execution_count": null,
      "outputs": []
    },
    {
      "cell_type": "code",
      "source": [
        "MODEL.predict(test_generator)"
      ],
      "metadata": {
        "id": "uYDTJEA9fJuF"
      },
      "execution_count": null,
      "outputs": []
    },
    {
      "cell_type": "code",
      "source": [
        "Store=[]\n",
        "for img in os.listdir('/content/drive/MyDrive/Retina_Data/test_big'):\n",
        "  image=cv2.imread(f'/content/drive/MyDrive/Retina_Data/test_big/{img}')/255.0\n",
        "  image=cv2.resize(image,(128,128))\n",
        "  preds=MODEL.predict(image.reshape((1,128,128,3)))\n",
        "  print(preds)\n",
        "  preds=np.argmax(preds,axis=1)[0]\n",
        "  Store.append((img,preds))\n",
        "Store=np.array(Store)"
      ],
      "metadata": {
        "colab": {
          "base_uri": "https://localhost:8080/"
        },
        "id": "EIKS88_RnNWM",
        "outputId": "02a9d0ef-d544-4007-a432-a8d42e3d7cf0"
      },
      "execution_count": 73,
      "outputs": [
        {
          "output_type": "stream",
          "name": "stdout",
          "text": [
            "1/1 [==============================] - 3s 3s/step\n",
            "[[0.94937646 0.10042989]]\n",
            "1/1 [==============================] - 0s 45ms/step\n",
            "[[0.85218567 0.12847482]]\n",
            "1/1 [==============================] - 0s 41ms/step\n",
            "[[0.9735423  0.04736248]]\n",
            "1/1 [==============================] - 0s 38ms/step\n",
            "[[0.8659413  0.15004817]]\n",
            "1/1 [==============================] - 0s 42ms/step\n",
            "[[0.97899127 0.04908495]]\n",
            "1/1 [==============================] - 0s 40ms/step\n",
            "[[0.86955047 0.16468723]]\n",
            "1/1 [==============================] - 0s 41ms/step\n",
            "[[0.9890421  0.00512874]]\n",
            "1/1 [==============================] - 0s 39ms/step\n",
            "[[0.6034708  0.25541654]]\n",
            "1/1 [==============================] - 0s 39ms/step\n",
            "[[0.7740892  0.14416099]]\n",
            "1/1 [==============================] - 0s 39ms/step\n",
            "[[0.910009   0.14015633]]\n",
            "1/1 [==============================] - 0s 45ms/step\n",
            "[[0.939076   0.12541692]]\n",
            "1/1 [==============================] - 0s 42ms/step\n",
            "[[0.87290215 0.18566053]]\n",
            "1/1 [==============================] - 0s 38ms/step\n",
            "[[0.9405367  0.06208553]]\n",
            "1/1 [==============================] - 0s 41ms/step\n",
            "[[0.96950835 0.0625245 ]]\n",
            "1/1 [==============================] - 0s 37ms/step\n",
            "[[0.9365639  0.09952291]]\n",
            "1/1 [==============================] - 0s 40ms/step\n",
            "[[0.88345903 0.19330074]]\n",
            "1/1 [==============================] - 0s 42ms/step\n",
            "[[0.7585541 0.28344  ]]\n",
            "1/1 [==============================] - 0s 37ms/step\n",
            "[[0.929839   0.16635053]]\n",
            "1/1 [==============================] - 0s 37ms/step\n",
            "[[0.90328324 0.16368431]]\n",
            "1/1 [==============================] - 0s 38ms/step\n",
            "[[0.63196295 0.26436424]]\n",
            "1/1 [==============================] - 0s 42ms/step\n",
            "[[0.9664007  0.06074556]]\n",
            "1/1 [==============================] - 0s 45ms/step\n",
            "[[0.01835425 0.4952987 ]]\n",
            "1/1 [==============================] - 0s 39ms/step\n",
            "[[0.00177156 0.62106884]]\n",
            "1/1 [==============================] - 0s 41ms/step\n",
            "[[0.33135873 0.41408768]]\n",
            "1/1 [==============================] - 0s 45ms/step\n",
            "[[0.18828784 0.2810245 ]]\n",
            "1/1 [==============================] - 0s 39ms/step\n",
            "[[0.12272662 0.3626829 ]]\n",
            "1/1 [==============================] - 0s 40ms/step\n",
            "[[0.00302906 0.7122236 ]]\n",
            "1/1 [==============================] - 0s 44ms/step\n",
            "[[0.90882987 0.09945915]]\n",
            "1/1 [==============================] - 0s 38ms/step\n",
            "[[0.00709672 0.6033651 ]]\n",
            "1/1 [==============================] - 0s 37ms/step\n",
            "[[0.11346172 0.326606  ]]\n",
            "1/1 [==============================] - 0s 38ms/step\n",
            "[[0.41323236 0.28063017]]\n",
            "1/1 [==============================] - 0s 38ms/step\n",
            "[[0.00411368 0.6049048 ]]\n",
            "1/1 [==============================] - 0s 40ms/step\n",
            "[[0.5324332  0.17901918]]\n",
            "1/1 [==============================] - 0s 38ms/step\n",
            "[[0.44590116 0.3292678 ]]\n",
            "1/1 [==============================] - 0s 38ms/step\n",
            "[[0.99134505 0.01212481]]\n",
            "1/1 [==============================] - 0s 37ms/step\n",
            "[[0.13746396 0.60700774]]\n",
            "1/1 [==============================] - 0s 41ms/step\n",
            "[[0.0053552 0.7573798]]\n",
            "1/1 [==============================] - 0s 44ms/step\n",
            "[[0.32344872 0.2703704 ]]\n",
            "1/1 [==============================] - 0s 46ms/step\n",
            "[[0.7678833  0.17849426]]\n",
            "1/1 [==============================] - 0s 36ms/step\n",
            "[[0.36191925 0.36206836]]\n",
            "1/1 [==============================] - 0s 39ms/step\n",
            "[[0.6272521  0.22907111]]\n",
            "1/1 [==============================] - 0s 41ms/step\n",
            "[[0.68062514 0.2323965 ]]\n",
            "1/1 [==============================] - 0s 43ms/step\n",
            "[[0.18311186 0.334983  ]]\n",
            "1/1 [==============================] - 0s 41ms/step\n",
            "[[0.06256426 0.3436004 ]]\n",
            "1/1 [==============================] - 0s 36ms/step\n",
            "[[0.12850143 0.58596534]]\n",
            "1/1 [==============================] - 0s 41ms/step\n",
            "[[0.7815589  0.07621373]]\n",
            "1/1 [==============================] - 0s 38ms/step\n",
            "[[0.48373404 0.2462083 ]]\n",
            "1/1 [==============================] - 0s 36ms/step\n",
            "[[0.26330566 0.272604  ]]\n",
            "1/1 [==============================] - 0s 39ms/step\n",
            "[[0.289526   0.21121822]]\n",
            "1/1 [==============================] - 0s 46ms/step\n",
            "[[0.09010245 0.40399677]]\n",
            "1/1 [==============================] - 0s 40ms/step\n",
            "[[0.5166952  0.28688508]]\n",
            "1/1 [==============================] - 0s 41ms/step\n",
            "[[0.72939867 0.19374382]]\n",
            "1/1 [==============================] - 0s 40ms/step\n",
            "[[0.065139   0.48762822]]\n",
            "1/1 [==============================] - 0s 41ms/step\n",
            "[[0.86730385 0.22299063]]\n",
            "1/1 [==============================] - 0s 40ms/step\n",
            "[[0.7409307  0.28071913]]\n",
            "1/1 [==============================] - 0s 42ms/step\n",
            "[[0.19772068 0.51768667]]\n",
            "1/1 [==============================] - 0s 45ms/step\n",
            "[[0.672348   0.22057962]]\n",
            "1/1 [==============================] - 0s 38ms/step\n",
            "[[0.08076952 0.3812277 ]]\n",
            "1/1 [==============================] - 0s 38ms/step\n",
            "[[0.26192442 0.2312387 ]]\n",
            "1/1 [==============================] - 0s 45ms/step\n",
            "[[0.1966823  0.28242087]]\n",
            "1/1 [==============================] - 0s 39ms/step\n",
            "[[0.26572132 0.29603413]]\n",
            "1/1 [==============================] - 0s 46ms/step\n",
            "[[0.5521817  0.31920642]]\n",
            "1/1 [==============================] - 0s 38ms/step\n",
            "[[0.45661134 0.36651948]]\n",
            "1/1 [==============================] - 0s 42ms/step\n",
            "[[0.40032735 0.42014048]]\n",
            "1/1 [==============================] - 0s 39ms/step\n",
            "[[0.7004378  0.21645768]]\n",
            "1/1 [==============================] - 0s 44ms/step\n",
            "[[0.54439443 0.23612322]]\n",
            "1/1 [==============================] - 0s 40ms/step\n",
            "[[0.08162379 0.48315737]]\n"
          ]
        }
      ]
    },
    {
      "cell_type": "code",
      "source": [
        "data=pd.DataFrame({\n",
        "    'images':Store[:,0],\n",
        "    'labels':Store[:,1]\n",
        "})\n",
        "data.head()"
      ],
      "metadata": {
        "colab": {
          "base_uri": "https://localhost:8080/",
          "height": 206
        },
        "id": "BotF_RsemW7z",
        "outputId": "02eb0107-b19b-4afe-9cfa-98f130268060"
      },
      "execution_count": 74,
      "outputs": [
        {
          "output_type": "execute_result",
          "data": {
            "text/plain": [
              "     images labels\n",
              "0  0001.jpg      0\n",
              "1  0003.jpg      0\n",
              "2  0004.jpg      0\n",
              "3  0005.jpg      0\n",
              "4  0006.jpg      0"
            ],
            "text/html": [
              "\n",
              "  <div id=\"df-30e9b2ed-dc06-4bad-8b57-b344fbee4d01\">\n",
              "    <div class=\"colab-df-container\">\n",
              "      <div>\n",
              "<style scoped>\n",
              "    .dataframe tbody tr th:only-of-type {\n",
              "        vertical-align: middle;\n",
              "    }\n",
              "\n",
              "    .dataframe tbody tr th {\n",
              "        vertical-align: top;\n",
              "    }\n",
              "\n",
              "    .dataframe thead th {\n",
              "        text-align: right;\n",
              "    }\n",
              "</style>\n",
              "<table border=\"1\" class=\"dataframe\">\n",
              "  <thead>\n",
              "    <tr style=\"text-align: right;\">\n",
              "      <th></th>\n",
              "      <th>images</th>\n",
              "      <th>labels</th>\n",
              "    </tr>\n",
              "  </thead>\n",
              "  <tbody>\n",
              "    <tr>\n",
              "      <th>0</th>\n",
              "      <td>0001.jpg</td>\n",
              "      <td>0</td>\n",
              "    </tr>\n",
              "    <tr>\n",
              "      <th>1</th>\n",
              "      <td>0003.jpg</td>\n",
              "      <td>0</td>\n",
              "    </tr>\n",
              "    <tr>\n",
              "      <th>2</th>\n",
              "      <td>0004.jpg</td>\n",
              "      <td>0</td>\n",
              "    </tr>\n",
              "    <tr>\n",
              "      <th>3</th>\n",
              "      <td>0005.jpg</td>\n",
              "      <td>0</td>\n",
              "    </tr>\n",
              "    <tr>\n",
              "      <th>4</th>\n",
              "      <td>0006.jpg</td>\n",
              "      <td>0</td>\n",
              "    </tr>\n",
              "  </tbody>\n",
              "</table>\n",
              "</div>\n",
              "      <button class=\"colab-df-convert\" onclick=\"convertToInteractive('df-30e9b2ed-dc06-4bad-8b57-b344fbee4d01')\"\n",
              "              title=\"Convert this dataframe to an interactive table.\"\n",
              "              style=\"display:none;\">\n",
              "        \n",
              "  <svg xmlns=\"http://www.w3.org/2000/svg\" height=\"24px\"viewBox=\"0 0 24 24\"\n",
              "       width=\"24px\">\n",
              "    <path d=\"M0 0h24v24H0V0z\" fill=\"none\"/>\n",
              "    <path d=\"M18.56 5.44l.94 2.06.94-2.06 2.06-.94-2.06-.94-.94-2.06-.94 2.06-2.06.94zm-11 1L8.5 8.5l.94-2.06 2.06-.94-2.06-.94L8.5 2.5l-.94 2.06-2.06.94zm10 10l.94 2.06.94-2.06 2.06-.94-2.06-.94-.94-2.06-.94 2.06-2.06.94z\"/><path d=\"M17.41 7.96l-1.37-1.37c-.4-.4-.92-.59-1.43-.59-.52 0-1.04.2-1.43.59L10.3 9.45l-7.72 7.72c-.78.78-.78 2.05 0 2.83L4 21.41c.39.39.9.59 1.41.59.51 0 1.02-.2 1.41-.59l7.78-7.78 2.81-2.81c.8-.78.8-2.07 0-2.86zM5.41 20L4 18.59l7.72-7.72 1.47 1.35L5.41 20z\"/>\n",
              "  </svg>\n",
              "      </button>\n",
              "      \n",
              "  <style>\n",
              "    .colab-df-container {\n",
              "      display:flex;\n",
              "      flex-wrap:wrap;\n",
              "      gap: 12px;\n",
              "    }\n",
              "\n",
              "    .colab-df-convert {\n",
              "      background-color: #E8F0FE;\n",
              "      border: none;\n",
              "      border-radius: 50%;\n",
              "      cursor: pointer;\n",
              "      display: none;\n",
              "      fill: #1967D2;\n",
              "      height: 32px;\n",
              "      padding: 0 0 0 0;\n",
              "      width: 32px;\n",
              "    }\n",
              "\n",
              "    .colab-df-convert:hover {\n",
              "      background-color: #E2EBFA;\n",
              "      box-shadow: 0px 1px 2px rgba(60, 64, 67, 0.3), 0px 1px 3px 1px rgba(60, 64, 67, 0.15);\n",
              "      fill: #174EA6;\n",
              "    }\n",
              "\n",
              "    [theme=dark] .colab-df-convert {\n",
              "      background-color: #3B4455;\n",
              "      fill: #D2E3FC;\n",
              "    }\n",
              "\n",
              "    [theme=dark] .colab-df-convert:hover {\n",
              "      background-color: #434B5C;\n",
              "      box-shadow: 0px 1px 3px 1px rgba(0, 0, 0, 0.15);\n",
              "      filter: drop-shadow(0px 1px 2px rgba(0, 0, 0, 0.3));\n",
              "      fill: #FFFFFF;\n",
              "    }\n",
              "  </style>\n",
              "\n",
              "      <script>\n",
              "        const buttonEl =\n",
              "          document.querySelector('#df-30e9b2ed-dc06-4bad-8b57-b344fbee4d01 button.colab-df-convert');\n",
              "        buttonEl.style.display =\n",
              "          google.colab.kernel.accessAllowed ? 'block' : 'none';\n",
              "\n",
              "        async function convertToInteractive(key) {\n",
              "          const element = document.querySelector('#df-30e9b2ed-dc06-4bad-8b57-b344fbee4d01');\n",
              "          const dataTable =\n",
              "            await google.colab.kernel.invokeFunction('convertToInteractive',\n",
              "                                                     [key], {});\n",
              "          if (!dataTable) return;\n",
              "\n",
              "          const docLinkHtml = 'Like what you see? Visit the ' +\n",
              "            '<a target=\"_blank\" href=https://colab.research.google.com/notebooks/data_table.ipynb>data table notebook</a>'\n",
              "            + ' to learn more about interactive tables.';\n",
              "          element.innerHTML = '';\n",
              "          dataTable['output_type'] = 'display_data';\n",
              "          await google.colab.output.renderOutput(dataTable, element);\n",
              "          const docLink = document.createElement('div');\n",
              "          docLink.innerHTML = docLinkHtml;\n",
              "          element.appendChild(docLink);\n",
              "        }\n",
              "      </script>\n",
              "    </div>\n",
              "  </div>\n",
              "  "
            ]
          },
          "metadata": {},
          "execution_count": 74
        }
      ]
    },
    {
      "cell_type": "code",
      "source": [
        "data.to_csv(r'/content/drive/MyDrive/Retina_Data/Micheal_Mishra_Text.txt', header=None, index=None, sep=' ', mode='a')\n"
      ],
      "metadata": {
        "id": "6eYlLbGuoE9g"
      },
      "execution_count": 75,
      "outputs": []
    },
    {
      "cell_type": "code",
      "source": [
        "data['labels'].value_counts()"
      ],
      "metadata": {
        "colab": {
          "base_uri": "https://localhost:8080/"
        },
        "id": "LO7Toc9vrUOP",
        "outputId": "50514d3b-435f-4e77-d8d0-8e93b08c765e"
      },
      "execution_count": 78,
      "outputs": [
        {
          "output_type": "execute_result",
          "data": {
            "text/plain": [
              "0    43\n",
              "1    24\n",
              "Name: labels, dtype: int64"
            ]
          },
          "metadata": {},
          "execution_count": 78
        }
      ]
    },
    {
      "cell_type": "markdown",
      "source": [
        "## Eng"
      ],
      "metadata": {
        "id": "JspgJTDKsxXC"
      }
    },
    {
      "cell_type": "code",
      "source": [],
      "metadata": {
        "id": "TQQyEdZAsyQf"
      },
      "execution_count": null,
      "outputs": []
    }
  ]
}